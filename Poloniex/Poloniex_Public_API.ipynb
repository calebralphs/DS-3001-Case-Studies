{
 "cells": [
  {
   "cell_type": "markdown",
   "metadata": {},
   "source": [
    "# Using Poloniex Steaming API"
   ]
  },
  {
   "cell_type": "markdown",
   "metadata": {},
   "source": [
    "* Key and Token creation"
   ]
  },
  {
   "cell_type": "code",
   "execution_count": 21,
   "metadata": {
    "collapsed": false
   },
   "outputs": [],
   "source": [
    "polo = poloniex('YS7B3GM0-FKGUI63B-3FWQREZD-4WZB4XBS', \n",
    "                         'd6cd713ebab7a174aa41fb7a13d2b2c238ce851c1e896e79f1280e27765340be1790f562e647411b442bb0759cf8a1e4a070856a09bc93ba433f175b72050d37')"
   ]
  },
  {
   "cell_type": "code",
   "execution_count": 83,
   "metadata": {
    "collapsed": false
   },
   "outputs": [
    {
     "name": "stdout",
     "output_type": "stream",
     "text": [
      "1392024203\n",
      "1392013177\n",
      "None\n"
     ]
    }
   ],
   "source": [
    "import pprint\n",
    "pp = pprint.PrettyPrinter(indent = 4)\n",
    "print dateToUNIX('2014-02-10 04:23:23')\n",
    "print dateToUNIX('2014-02-10 01:19:37')\n",
    "funTester = polo.returnTradeHistoryByTime('BTC_ETH', '2014-02-10 01:19:37', '2014-02-10 04:23:23')\n",
    "print(funTester)\n",
    "'https://poloniex.com/public?command=returnTradeHistory&currencyPair=BTC_ETH&start=1392013177&end=1392013177'"
   ]
  },
  {
   "cell_type": "markdown",
   "metadata": {},
   "source": [
    "# returnTransferResultsByTime\n",
    "* find correct library function to transform Datetime tupil to a UNIX time\n",
    "* cannot request a window larger than one year\n",
    "* Poloniex can handle up to 30,000 transactions for second, but can't go back in time based on number of transactions"
   ]
  },
  {
   "cell_type": "code",
   "execution_count": 74,
   "metadata": {
    "collapsed": false
   },
   "outputs": [],
   "source": [
    "import urllib\n",
    "import urllib2\n",
    "import json\n",
    "import time\n",
    "import hmac,hashlib\n",
    "\n",
    "def createTimeStamp(datestr, format=\"%Y-%m-%d %H:%M:%S\"):\n",
    "    return time.mktime(time.strptime(datestr, format))\n",
    "\n",
    "class poloniex:\n",
    "    def __init__(self, APIKey, Secret):\n",
    "        self.APIKey = APIKey\n",
    "        self.Secret = Secret\n",
    "\n",
    "    def post_process(self, before):\n",
    "        after = before\n",
    "\n",
    "        # Add timestamps if there isnt one but is a datetime\n",
    "        if('return' in after):\n",
    "            if(isinstance(after['return'], list)):\n",
    "                for x in xrange(0, len(after['return'])):\n",
    "                    if(isinstance(after['return'][x], dict)):\n",
    "                        if('datetime' in after['return'][x] and 'timestamp' not in after['return'][x]):\n",
    "                            after['return'][x]['timestamp'] = float(createTimeStamp(after['return'][x]['datetime']))\n",
    "                            \n",
    "        return after\n",
    "\n",
    "    def api_query(self, command, req={}):\n",
    "\n",
    "        if(command == \"returnTicker\" or command == \"returnTradeHistory\"):\n",
    "            ret = urllib2.urlopen(urllib2.Request('https://poloniex.com/public?command=' + command))\n",
    "            return json.loads(ret.read())\n",
    "        elif(command == \"return24Volume\"):\n",
    "            command = \"return24hVolume\"\n",
    "            ret = urllib2.urlopen(urllib2.Request('https://poloniex.com/public?command=' + command))\n",
    "            return json.loads(ret.read())\n",
    "        elif(command == \"returnOrderBook\"):\n",
    "            ret = urllib2.urlopen(urllib2.Request('https://poloniex.com/public?command=' + command + '&currencyPair=' + str(req['currencyPair'])))\n",
    "            return json.loads(ret.read())\n",
    "        elif(command == \"returnMarketTradeHistory\"):\n",
    "            # should be including starting and ending datetimes  \n",
    "            # https://poloniex.com/public?command=returnTradeHistory&currencyPair=BTC_NXT&start=1410158341&end=1410499372\n",
    "            ret = urllib2.urlopen(urllib2.Request('https://poloniex.com/public?command=' + \"returnTradeHistory\" + '&currencyPair=' + str(req['currencyPair'])))\n",
    "            return json.loads(ret.read())\n",
    "        else:\n",
    "            req['command'] = command\n",
    "            req['nonce'] = int(time.time()*1000)\n",
    "            post_data = urllib.urlencode(req)\n",
    "\n",
    "            sign = hmac.new(self.Secret, post_data, hashlib.sha512).hexdigest()\n",
    "            headers = {\n",
    "                'Sign': sign,\n",
    "                'Key': self.APIKey\n",
    "            }\n",
    "\n",
    "            ret = urllib2.urlopen(urllib2.Request('https://poloniex.com/tradingApi', post_data, headers))\n",
    "            jsonRet = json.loads(ret.read())\n",
    "            return self.post_process(jsonRet)\n",
    "\n",
    "\n",
    "    def returnTicker(self):\n",
    "        return self.api_query(\"returnTicker\")\n",
    "\n",
    "    def return24Volume(self):\n",
    "        return self.api_query(\"return24Volume\")\n",
    "\n",
    "    def returnOrderBook (self, currencyPair):\n",
    "        return self.api_query(\"returnOrderBook\", {'currencyPair': currencyPair})\n",
    "\n",
    "    def returnMarketTradeHistory (self, currencyPair):\n",
    "        return self.api_query(\"returnMarketTradeHistory\", {'currencyPair': currencyPair})\n",
    "    \n",
    "\n",
    "    # Returns all of your balances.\n",
    "    # Outputs: \n",
    "    # {\"BTC\":\"0.59098578\",\"LTC\":\"3.31117268\", ... }\n",
    "    def returnBalances(self):\n",
    "        return self.api_query('returnBalances')\n",
    "\n",
    "    # Returns your open orders for a given market, specified by the \"currencyPair\" POST parameter, e.g. \"BTC_XCP\"\n",
    "    # Inputs:\n",
    "    # currencyPair  The currency pair e.g. \"BTC_XCP\"\n",
    "    # Outputs: \n",
    "    # orderNumber   The order number\n",
    "    # type          sell or buy\n",
    "    # rate          Price the order is selling or buying at\n",
    "    # Amount        Quantity of order\n",
    "    # total         Total value of order (price * quantity)\n",
    "    def returnOpenOrders(self,currencyPair):\n",
    "        return self.api_query('returnOpenOrders',{\"currencyPair\":currencyPair})\n",
    "\n",
    "\n",
    "    # Returns your trade history for a given market, specified by the \"currencyPair\" POST parameter\n",
    "    # Inputs:\n",
    "    # currencyPair  The currency pair e.g. \"BTC_XCP\"\n",
    "    # Outputs: \n",
    "    # date          Date in the form: \"2014-02-19 03:44:59\"\n",
    "    # rate          Price the order is selling or buying at\n",
    "    # amount        Quantity of order\n",
    "    # total         Total value of order (price * quantity)\n",
    "    # type          sell or buy\n",
    "    def returnTradeHistory(self,currencyPair):\n",
    "        return self.api_query('returnTradeHistory',{\"currencyPair\":currencyPair})\n",
    "    \n",
    "    def returnTradeHistoryByTime (self, currencyPair, start, end):\n",
    "        ret = urllib2.urlopen(urllib2.Request('https://poloniex.com/public?command=returnTradeHistory&currencyPair=' + str(currencyPair) + '&start=' + str(dateToUNIX(start)) + '&end=' + str(dateToUNIX(end))))\n",
    "        return json.loads(ret.read())\n",
    "        \n",
    "    # Places a buy order in a given market. Required POST parameters are \"currencyPair\", \"rate\", and \"amount\". If successful, the method will return the order number.\n",
    "    # Inputs:\n",
    "    # currencyPair  The curreny pair\n",
    "    # rate          price the order is buying at\n",
    "    # amount        Amount of coins to buy\n",
    "    # Outputs: \n",
    "    # orderNumber   The order number\n",
    "    def buy(self,currencyPair,rate,amount):\n",
    "        return self.api_query('buy',{\"currencyPair\":currencyPair,\"rate\":rate,\"amount\":amount})\n",
    "\n",
    "    # Places a sell order in a given market. Required POST parameters are \"currencyPair\", \"rate\", and \"amount\". If successful, the method will return the order number.\n",
    "    # Inputs:\n",
    "    # currencyPair  The curreny pair\n",
    "    # rate          price the order is selling at\n",
    "    # amount        Amount of coins to sell\n",
    "    # Outputs: \n",
    "    # orderNumber   The order number\n",
    "    def sell(self,currencyPair,rate,amount):\n",
    "        return self.api_query('sell',{\"currencyPair\":currencyPair,\"rate\":rate,\"amount\":amount})\n",
    "\n",
    "    # Cancels an order you have placed in a given market. Required POST parameters are \"currencyPair\" and \"orderNumber\".\n",
    "    # Inputs:\n",
    "    # currencyPair  The curreny pair\n",
    "    # orderNumber   The order number to cancel\n",
    "    # Outputs: \n",
    "    # succes        1 or 0\n",
    "    def cancel(self,currencyPair,orderNumber):\n",
    "        return self.api_query('cancelOrder',{\"currencyPair\":currencyPair,\"orderNumber\":orderNumber})\n",
    "\n",
    "    # Immediately places a withdrawal for a given currency, with no email confirmation. In order to use this method, the withdrawal privilege must be enabled for your API key. Required POST parameters are \"currency\", \"amount\", and \"address\". Sample output: {\"response\":\"Withdrew 2398 NXT.\"} \n",
    "    # Inputs:\n",
    "    # currency      The currency to withdraw\n",
    "    # amount        The amount of this coin to withdraw\n",
    "    # address       The withdrawal address\n",
    "    # Outputs: \n",
    "    # response      Text containing message about the withdrawal\n",
    "    def withdraw(self, currency, amount, address):\n",
    "        return self.api_query('withdraw',{\"currency\":currency, \"amount\":amount, \"address\":address})"
   ]
  },
  {
   "cell_type": "code",
   "execution_count": 45,
   "metadata": {
    "collapsed": false
   },
   "outputs": [
    {
     "name": "stdout",
     "output_type": "stream",
     "text": [
      "1492707253\n"
     ]
    }
   ],
   "source": [
    "# converts the date object attribute of the JSON to UNIX format \n",
    "import time\n",
    "import datetime\n",
    "def dateToUNIX(date):\n",
    "    date = str(date)\n",
    "    year = int(date[:4])\n",
    "    month = int(date[5:-12])\n",
    "    day = int(date[8:-9])\n",
    "    hour = int(date[11:-6])\n",
    "    minute = int(date[14:-3])\n",
    "    second = int(date[17:])\n",
    "    dt = datetime.datetime(year, month, day, hour, minute, second, 0)\n",
    "    UNIX = time.mktime(dt.timetuple())\n",
    "    UNIX = str(UNIX)[:-2]\n",
    "    return UNIX\n",
    "print dateToUNIX('2017-04-20 12:54:13')"
   ]
  },
  {
   "cell_type": "markdown",
   "metadata": {},
   "source": [
    "* Handling rule of maximum of 6 requests per second so ip doesn't get banned from public API\n",
    "* Also cannot fetch \"absurdly large amounts of data\""
   ]
  },
  {
   "cell_type": "code",
   "execution_count": 10,
   "metadata": {
    "collapsed": false
   },
   "outputs": [],
   "source": [
    "from poloniex import Poloniex, Coach\n",
    "myCoach = Coach()\n",
    "\n",
    "public = Poloniex(coach=myCoach)\n",
    "private = Poloniex(polo.Key, polo.Secret, coach=myCoach)\n",
    "# now make calls using both 'private' and 'public' and myCoach will handle both"
   ]
  },
  {
   "cell_type": "code",
   "execution_count": null,
   "metadata": {
    "collapsed": true
   },
   "outputs": [],
   "source": []
  }
 ],
 "metadata": {
  "kernelspec": {
   "display_name": "Python 2",
   "language": "python",
   "name": "python2"
  },
  "language_info": {
   "codemirror_mode": {
    "name": "ipython",
    "version": 2
   },
   "file_extension": ".py",
   "mimetype": "text/x-python",
   "name": "python",
   "nbconvert_exporter": "python",
   "pygments_lexer": "ipython2",
   "version": "2.7.13"
  }
 },
 "nbformat": 4,
 "nbformat_minor": 2
}
