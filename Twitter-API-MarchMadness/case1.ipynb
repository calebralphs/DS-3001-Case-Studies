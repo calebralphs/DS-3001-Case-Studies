{
 "cells": [
  {
   "cell_type": "markdown",
   "metadata": {
    "deletable": true,
    "editable": true
   },
   "source": [
    "# Case Study 1 : Data Science in Twitter Data"
   ]
  },
  {
   "cell_type": "markdown",
   "metadata": {
    "deletable": true,
    "editable": true
   },
   "source": [
    "**Required Readings:** \n",
    "* Chapter 1 and Chapter 9 of the book [Mining the Social Web](http://cdn.oreillystatic.com/oreilly/booksamplers/9781449367619_sampler.pdf) \n",
    "* The codes for [Chapter 1](http://bit.ly/1qCtMrr) and [Chapter 9](http://bit.ly/1u7eP33)\n",
    "* [TED Talks](https://www.ted.com/talks) for examples of 10 minutes talks.\n",
    "\n",
    "\n",
    "** NOTE **\n",
    "* Please don't forget to save the notebook frequently when working in Jupyter Notebook, otherwise the changes you made can be lost.\n",
    "\n",
    "*----------------------"
   ]
  },
  {
   "cell_type": "markdown",
   "metadata": {
    "deletable": true,
    "editable": true
   },
   "source": [
    "# Problem: pick a data science problem that you plan to solve using Twitter Data\n",
    "* The problem should be important and interesting, which has a potential impact in some area.\n",
    "* The problem should be solvable using twitter data and data science solutions.\n",
    "\n",
    "Please briefly describe in the following cell: what problem are you trying to solve? why this problem is important and interesting?"
   ]
  },
  {
   "cell_type": "markdown",
   "metadata": {
    "collapsed": true,
    "deletable": true,
    "editable": true
   },
   "source": [
    "How should companies, such as Nike, Under Armour, etc.,\n",
    "determine how much apparel should be made \n",
    "for a college basketball team based on popularity so \n",
    "they can prevent both over and under-ordering?\n",
    "This is interesting and important because, most of these\n",
    "companies will donate any money they see as excess profit to nonprofit, \n",
    "charitable organizations.  Since these charities do \n",
    "not keep any excess money at the end of the fiscal year, \n",
    "they must spend it on things that help benefit or push the\n",
    "image and goal of their organization. With increased savings,\n",
    "the company can donate more to charities and to fund new ideas\n",
    "and research- helping the company reputation, the charity, and \n",
    "development of both organizations."
   ]
  },
  {
   "cell_type": "markdown",
   "metadata": {
    "deletable": true,
    "editable": true
   },
   "source": [
    "## Data Collection: Download Twitter Data using API"
   ]
  },
  {
   "cell_type": "markdown",
   "metadata": {
    "deletable": true,
    "editable": true
   },
   "source": [
    "* In order to solve the above problem, you need to collect some twitter data. You could select a topic that is relevant to your problem, and use Twitter API to download the relevant tweets. It is recommended that the number of tweets should be larger than 200, but smaller than 1 million.\n",
    "* Store the tweets you downloaded into a local file (txt file or json file) "
   ]
  },
  {
   "cell_type": "code",
   "execution_count": 21,
   "metadata": {
    "collapsed": false,
    "deletable": true,
    "editable": true
   },
   "outputs": [],
   "source": [
    "import twitter\n",
    "import json\n",
    "\n",
    "#---------------------------------------------\n",
    "# Define a Function to Login Twitter API\n",
    "def oauth_login():\n",
    "    # Go to http://twitter.com/apps/new to create an app and get values\n",
    "    # for these credentials that you'll need to provide in place of these\n",
    "    # empty string values that are defined as placeholders.\n",
    "    # See https://dev.twitter.com/docs/auth/oauth for more information \n",
    "    # on Twitter's OAuth implementation.\n",
    "    \n",
    "    CONSUMER_KEY = 'OjFqprqiUJesOcuetehAyIEyq'\n",
    "    CONSUMER_SECRET ='AABaOvpj5wxeX19cFwVYsRSmVzrqqdKamU702ENSPVLMDN3jyR'\n",
    "    OAUTH_TOKEN = '842521882217930753-dcaJVacfwBjhMbHAPa2b2BfOhUj6Hfv'\n",
    "    OAUTH_TOKEN_SECRET = 'jxFAtIW57LvKK5J1berSOyVB9e0y1u5ipthtEfcjvcCAb'\n",
    "    \n",
    "    auth = twitter.oauth.OAuth(OAUTH_TOKEN, OAUTH_TOKEN_SECRET,\n",
    "                               CONSUMER_KEY, CONSUMER_SECRET)\n",
    "    \n",
    "    twitter_api = twitter.Twitter(auth=auth)\n",
    "    return twitter_api\n",
    "\n",
    "tapi = oauth_login();\n",
    "q = '#MarchMadness'\n",
    "\n",
    "teams = [\"Ducks\", \"Wolverines\", \"Mountaineers\", \"Bulldogs\"]\n",
    "teamcounter = dict((x,0) for x in teams)"
   ]
  },
  {
   "cell_type": "code",
   "execution_count": 22,
   "metadata": {
    "collapsed": false,
    "deletable": true,
    "editable": true
   },
   "outputs": [
    {
     "name": "stdout",
     "output_type": "stream",
     "text": [
      "#MarchMadness (#Ducks OR #Wolverines OR #Mountaineers OR #Bulldogs)\n",
      "Length of statuses 100\n",
      "Length of statuses 200\n",
      "Length of statuses 300\n",
      "Length of statuses 400\n",
      "Length of statuses 500\n",
      "Length of statuses 600\n",
      "Length of statuses 700\n",
      "Length of statuses 800\n",
      "Length of statuses 900\n",
      "Length of statuses 1000\n",
      "Length of statuses 1100\n",
      "Length of statuses 1200\n",
      "Length of statuses 1300\n",
      "Length of statuses 1343\n",
      "done\n",
      "file exported\n"
     ]
    }
   ],
   "source": [
    "#Variables controlling tweet batch size\n",
    "count = 100\n",
    "cap = 5000\n",
    "maxiterations = 2000\n",
    "\n",
    "#Construct the query to contain #MarchMadness as well as teams specified above\n",
    "q += ' (#' + ' OR #'.join(str(x) for x in teams) + ')'\n",
    "print q\n",
    "\n",
    "#Perform a search query using the twitter api\n",
    "search_results = tapi.search.tweets(q=q, count=count)\n",
    "\n",
    "#Create a variable that holds all of the statuses from tweets collected\n",
    "statuses = search_results['statuses']\n",
    "\n",
    "#Usinging the next_results field to generate new queries, continue to add\n",
    "#twitter data to the statuses variable\n",
    "for __ in range(maxiterations):\n",
    "    print \"Length of statuses\", len(statuses)\n",
    "    try:\n",
    "        next_results = search_results['search_metadata']['next_results']\n",
    "    except KeyError, e: # No more results when next_results doesn't exist\n",
    "        print \"done\"\n",
    "        break\n",
    "    \n",
    "    if (len(statuses) >= cap):\n",
    "        print \"done\"\n",
    "        break\n",
    "        \n",
    "    # Create a dictionary from next_results, which has the following form:\n",
    "    # ?max_id=313519052523986943&q=q&include_entities=1\n",
    "    kwargs = dict([ kv.split('=') for kv in next_results[1:].split(\"&\") ])\n",
    "    \n",
    "    # removes clutter from the new query\n",
    "    for key, value in kwargs.iteritems():\n",
    "        kwargs[key] = value.replace('%25', '%')\n",
    "        \n",
    "    search_results = tapi.search.tweets(**kwargs)\n",
    "    statuses += search_results['statuses']\n",
    "\n",
    "#Save twitter data into a local file\n",
    "with open('data.json', 'w') as outfile:\n",
    "    json.dump(statuses, outfile)\n",
    "    print 'file exported'"
   ]
  },
  {
   "cell_type": "markdown",
   "metadata": {
    "deletable": true,
    "editable": true
   },
   "source": [
    "### Report  statistics about the tweets you collected "
   ]
  },
  {
   "cell_type": "code",
   "execution_count": 23,
   "metadata": {
    "collapsed": false,
    "deletable": true,
    "editable": true
   },
   "outputs": [
    {
     "name": "stdout",
     "output_type": "stream",
     "text": [
      "Number of tweets collected: 1343\n"
     ]
    }
   ],
   "source": [
    "# The total number of tweets collected: \n",
    "import json\n",
    "import re\n",
    "\n",
    "with open('data.json', 'r') as infile:\n",
    "    statuses = json.load(infile)\n",
    "\n",
    "i=0\n",
    "for status in statuses:\n",
    "    i+=1\n",
    "    \n",
    "print 'Number of tweets collected: ' + str(i)"
   ]
  },
  {
   "cell_type": "markdown",
   "metadata": {
    "deletable": true,
    "editable": true
   },
   "source": [
    "# Data Exploration: Exploring the Tweets and Tweet Entities\n",
    "\n",
    "**(1) Word Count:** \n",
    "* Load the tweets you collected in the local file (txt or json)\n",
    "* compute the frequencies of the words being used in these tweets. \n",
    "* Plot a table of the top 30 most-frequent words with their counts"
   ]
  },
  {
   "cell_type": "code",
   "execution_count": 24,
   "metadata": {
    "collapsed": false,
    "deletable": true,
    "editable": true
   },
   "outputs": [
    {
     "name": "stdout",
     "output_type": "stream",
     "text": [
      "+-------------------+-------+\n",
      "|        Word       | Count |\n",
      "+-------------------+-------+\n",
      "|   #marchmadness   |   815 |\n",
      "|   #MarchMadness   |   469 |\n",
      "|    #Wolverines    |   438 |\n",
      "|  #NCAATournament  |   284 |\n",
      "|   #Mountaineers   |   256 |\n",
      "|     #Michigan     |   207 |\n",
      "|       #Ducks      |   178 |\n",
      "|        Beat       |   155 |\n",
      "|       #UMich      |   148 |\n",
      "|   @_ElleJohnson:  |   144 |\n",
      "|        #WVU       |   117 |\n",
      "|      #GoBlue      |   111 |\n",
      "|       #ducks      |   103 |\n",
      "|      #SWEET16     |    99 |\n",
      "|    #Wolverines!   |    88 |\n",
      "|     officially    |    86 |\n",
      "|       begun       |    84 |\n",
      "|     #okstate!     |    84 |\n",
      "|      #Sweet16     |    84 |\n",
      "|     #GoBlue!!!    |    84 |\n",
      "| https://t.co/RH4… |    83 |\n",
      "|     #Bulldogs     |    77 |\n",
      "|      #Oregon      |    76 |\n",
      "|         go        |    75 |\n",
      "|         I         |    73 |\n",
      "|       Let's       |    69 |\n",
      "|    #wolverines    |    64 |\n",
      "|     #GoBlue!!     |    63 |\n",
      "|      #Gonzaga     |    63 |\n",
      "|       time!       |    63 |\n",
      "+-------------------+-------+\n"
     ]
    }
   ],
   "source": [
    "import json\n",
    "from prettytable import PrettyTable\n",
    "from collections import Counter\n",
    "\n",
    "#grab tweet data from local file\n",
    "with open('data.json', 'r') as infile:\n",
    "    statuses = json.load(infile)\n",
    "\n",
    "#list of text in each tweet\n",
    "status_texts = [ status['text']\n",
    "                for status in statuses ]\n",
    "\n",
    "#list of all words in each \n",
    "words = [w\n",
    "        for t in status_texts\n",
    "            for w in t.split() ]\n",
    "\n",
    "#removes common words from the list of most common words\n",
    "commonwords = [\"to\", \"the\", \"is\", \"in\", \"for\", \"a\", \"on\", \"of\", \"and\", \"from\", \"it\", \"if\", \"at\", \"our\", \"my\", \"has\", \"over\", \"are\", \"with\", \"RT\"]\n",
    "c = Counter(words)\n",
    "for word in list(c):\n",
    "    if word in commonwords:\n",
    "        del c[word]\n",
    "\n",
    "#creates a table of the most frequent words\n",
    "pt = PrettyTable(field_names=['Word', 'Count'])\n",
    "[ pt.add_row(kv) for kv in c.most_common()[:30] ]\n",
    "pt.align['Word'], pt.align['Count'] = '1', 'r'\n",
    "\n",
    "print pt"
   ]
  },
  {
   "cell_type": "markdown",
   "metadata": {
    "deletable": true,
    "editable": true
   },
   "source": [
    "** (2) Find the most popular tweets in your collection of tweets**\n",
    "\n",
    "Please plot a table of the top 10 most-retweeted tweets in your collection, i.e., the tweets with the largest number of retweet counts.\n"
   ]
  },
  {
   "cell_type": "code",
   "execution_count": 25,
   "metadata": {
    "collapsed": false,
    "deletable": true,
    "editable": true
   },
   "outputs": [
    {
     "name": "stdout",
     "output_type": "stream",
     "text": [
      "+-------+----------------+------------------------------------------+\n",
      "| Count | Screen Name    | Text                                     |\n",
      "+-------+----------------+------------------------------------------+\n",
      "| 100   | _ElleJohnson   | RT @_ElleJohnson: #GoBlue!!!             |\n",
      "|       |                | #marchmadness has officially begun for   |\n",
      "|       |                | my #UMich #Wolverines! Beat #okstate!    |\n",
      "|       |                | #NCAATournament https://t.co/RH4…        |\n",
      "| 74    | _ElleJohnson   | RT @_ElleJohnson: Revenge time!          |\n",
      "|       |                | #GoBlue!! Beat #Louisville!              |\n",
      "|       |                | #NCAATournament #marchmadness #UMich     |\n",
      "|       |                | #Michigan #Wolverines over #Cardinals!   |\n",
      "|       |                | htt…                                     |\n",
      "| 19    | MaizenBrew     | RT @MaizenBrew: On to Round 2!           |\n",
      "|       |                | #Wolverines #marchmadness                |\n",
      "|       |                | https://t.co/32XBmdXOE8                  |\n",
      "| 17    | AshleyJudd     | RT @AshleyJudd: Go #mountaineers!!!      |\n",
      "|       |                | Coach 'em Huggins@ @WestVirginiaU        |\n",
      "|       |                | #marchmadness                            |\n",
      "| 14    | Rivals         | RT @Rivals: #MarchMadness #Sweet16       |\n",
      "|       |                | Preview: #WVU vs. #Gonzaga               |\n",
      "|       |                |                                          |\n",
      "|       |                | #Mountaineers Angle:                     |\n",
      "|       |                | https://t.co/HXCzSkma3z                  |\n",
      "|       |                | #Zags Angle: https://t.co/BXlj8…         |\n",
      "| 12    | RowOneBrand    | RT @RowOneBrand: Great battle tonight!   |\n",
      "|       |                | #SWEET16 #marchmadness #NCAATournament   |\n",
      "|       |                | #Michigan #wolverines #oregon #ducks     |\n",
      "|       |                | #goblue #goducks #basket…                |\n",
      "| 7     | SenCapito      | RT @SenCapito: Good luck to @WVUhoops as |\n",
      "|       |                | they kick off #MarchMadness this         |\n",
      "|       |                | afternoon. Let’s go #Mountaineers!       |\n",
      "|       |                | #PressVirginia                           |\n",
      "| 7     | FnA_FinalFour  | RT @FnA_FinalFour: Who's got your ☑️?    |\n",
      "|       |                | No.7️⃣ #Michigan vs No.3️⃣ #Oregon       |\n",
      "|       |                | #Wolverines 〽vs #Ducks 🦆               |\n",
      "|       |                | #marchmadness #SWEET16                   |\n",
      "| 6     | LifeVantageCKH | RT @LifeVantageCKH: Another great game   |\n",
      "|       |                | for Esa Ahmad and the #wvu #Mountaineers |\n",
      "|       |                | #PressVirginia #NCAATournament           |\n",
      "|       |                | #marchmadness #buffalo https…            |\n",
      "| 6     | Durbin47       | RT @Durbin47: What a game! #oregon       |\n",
      "|       |                | #ducks #goducks #marchmadness #SWEET16   |\n",
      "|       |                | #elite8 #EliteEight #NCAATournament      |\n",
      "|       |                | #influencer #influencers #Spo…           |\n",
      "+-------+----------------+------------------------------------------+\n"
     ]
    }
   ],
   "source": [
    "import json\n",
    "from prettytable import PrettyTable\n",
    "\n",
    "#Load in tweet data from local file\n",
    "with open('data.json', 'r') as infile:\n",
    "    statuses = json.load(infile)\n",
    "\n",
    "#Create a tuple containing tweet_count, screen_name, and text to be sorted\n",
    "retweets = [\n",
    "            # Store out a tuple of these three values ...\n",
    "            (status['retweet_count'], \n",
    "             status['retweeted_status']['user']['screen_name'],\n",
    "             status['text']) \n",
    "            \n",
    "            # ... for each status ...\n",
    "            for status in statuses \n",
    "            \n",
    "            # ... so long as the status meets this condition.\n",
    "                if status.has_key('retweeted_status')\n",
    "           ]\n",
    "\n",
    "#initialize list for top 10 retweets\n",
    "retweeted = [None]*10\n",
    "\n",
    "pt = PrettyTable(field_names=['Count', 'Screen Name', 'Text'])\n",
    "i = 0\n",
    "\n",
    "#Looks through all the sorted (by retweet count) retweets and adds unique ones into the final list\n",
    "for row in sorted(retweets, reverse=True):\n",
    "    if row not in retweeted and i < 10:\n",
    "        retweeted[i] = row\n",
    "        i+=1\n",
    "        pt.add_row(row)\n",
    "\n",
    "#creates and prints a table of the final list\n",
    "pt.max_width['Text'] = 40\n",
    "pt.align= 'l'\n",
    "print pt"
   ]
  },
  {
   "cell_type": "markdown",
   "metadata": {
    "deletable": true,
    "editable": true
   },
   "source": [
    "**(3) Find the most popular Tweet Entities in your collection of tweets**\n",
    "\n",
    "Please plot the top 10 most-frequent hashtags and top 10 most-mentioned users in your collection of tweets."
   ]
  },
  {
   "cell_type": "code",
   "execution_count": 26,
   "metadata": {
    "collapsed": false,
    "deletable": true,
    "editable": true
   },
   "outputs": [
    {
     "name": "stdout",
     "output_type": "stream",
     "text": [
      "+-----------------+-------+\n",
      "|     Hashtag     | Count |\n",
      "+-----------------+-------+\n",
      "|  #marchmadness  |   815 |\n",
      "|  #MarchMadness  |   469 |\n",
      "|   #Wolverines   |   438 |\n",
      "| #NCAATournament |   284 |\n",
      "|  #Mountaineers  |   256 |\n",
      "|    #Michigan    |   207 |\n",
      "|      #Ducks     |   178 |\n",
      "|      #UMich     |   148 |\n",
      "|       #WVU      |   117 |\n",
      "|     #GoBlue     |   111 |\n",
      "+-----------------+-------+\n",
      "+----------------+-------+\n",
      "|    Username    | Count |\n",
      "+----------------+-------+\n",
      "| @_ElleJohnson: |  144  |\n",
      "|  @umichbball   |   51  |\n",
      "|   @WVUhoops    |   29  |\n",
      "|   @OregonMBB   |   29  |\n",
      "| @WestVirginiaU |   22  |\n",
      "|    @Rivals:    |   20  |\n",
      "|  @MaizenBrew:  |   17  |\n",
      "|  @Thee_LB53:   |   16  |\n",
      "|    Huggins@    |   15  |\n",
      "|  @FOX2Sports:  |   14  |\n",
      "+----------------+-------+\n"
     ]
    }
   ],
   "source": [
    "with open('data.json', 'r') as infile:\n",
    "    statuses = json.load(infile)\n",
    "\n",
    "status_texts = [ status['text']\n",
    "                for status in statuses ]\n",
    "\n",
    "# splits the text into individual words\n",
    "words = [w\n",
    "        for t in status_texts\n",
    "            for w in t.split() ]\n",
    "\n",
    "# filter all of the words not containing a '#' from the list of words to remove all non-hashtags\n",
    "hashtags = Counter(words)\n",
    "for word in list(hashtags):\n",
    "    if \"#\" not in word:\n",
    "        del hashtags[word]\n",
    "        \n",
    "# get the top 10 most mentioned hashtags from a list of hashtags\n",
    "most_common_hashtags = hashtags.most_common()[:10]  \n",
    "\n",
    "# filter all of the words not contianing an '@' from the list of words to remove all non-user words\n",
    "users = Counter(words)\n",
    "for word in list(users):\n",
    "    if \"@\" not in word or len(word) < 2:\n",
    "        del users[word]\n",
    "        \n",
    "# get the top 10 most mentioned usernames from the list of usernames\n",
    "most_common_users = users.most_common()[:10] \n",
    "        \n",
    "# print a table of the most common hashtags in our collected tweets\n",
    "htpt = PrettyTable(field_names=['Hashtag', 'Count'])\n",
    "[ htpt.add_row(kv) for kv in most_common_hashtags ]\n",
    "htpt.align['Word'], htpt.align['Count'] = '1', 'r'\n",
    "print htpt\n",
    "\n",
    "# print a table of the most common user mentions in our collected tweets\n",
    "umpt = PrettyTable(field_names=['Username', 'Count'])\n",
    "[ umpt.add_row(kv) for kv in most_common_users ]\n",
    "umpt.align['Word'], htpt.align['Count'] = '1', 'r'\n",
    "print umpt"
   ]
  },
  {
   "cell_type": "markdown",
   "metadata": {
    "deletable": true,
    "editable": true
   },
   "source": [
    "Plot a histogram of the number of user mentions in the list using the following bins."
   ]
  },
  {
   "cell_type": "code",
   "execution_count": 27,
   "metadata": {
    "collapsed": false,
    "deletable": true,
    "editable": true
   },
   "outputs": [
    {
     "data": {
      "image/png": "[encoded data removed]",
      "text/plain": [
       "<matplotlib.figure.Figure at 0x9eeb240>"
      ]
     },
     "metadata": {},
     "output_type": "display_data"
    }
   ],
   "source": [
    "bins=[0, 10, 20, 30, 40, 50, 100]\n",
    "\n",
    "import matplotlib.pyplot as plt\n",
    "import numpy as np    \n",
    "\n",
    "# labeling the graph\n",
    "plt.title('User Mention Frequency Table')\n",
    "plt.xlabel('User Mention Bin')\n",
    "plt.ylabel('Frequency of User Mention in Bin')\n",
    "\n",
    "# loading our data into the graph\n",
    "plt.hist([x[1] for x in most_common_users], bins)\n",
    "plt.show()\n",
    "\n",
    "\n",
    "\n"
   ]
  },
  {
   "cell_type": "markdown",
   "metadata": {
    "deletable": true,
    "editable": true
   },
   "source": [
    "\n",
    " ** (4) Getting \"All\" friends and \"All\" followers of a popular user in the tweets**"
   ]
  },
  {
   "cell_type": "markdown",
   "metadata": {
    "deletable": true,
    "editable": true
   },
   "source": [
    "* choose a popular twitter user who has many followers in your collection of tweets.\n",
    "* Get the list of all friends and all followers of the twitter user.\n",
    "* Plot 20 out of the followers, plot their ID numbers and screen names in a table.\n",
    "* Plot 20 out of the friends (if the user has more than 20 friends), plot their ID numbers and screen names in a table."
   ]
  },
  {
   "cell_type": "code",
   "execution_count": null,
   "metadata": {
    "collapsed": true,
    "deletable": true,
    "editable": true
   },
   "outputs": [],
   "source": []
  },
  {
   "cell_type": "code",
   "execution_count": 28,
   "metadata": {
    "collapsed": false,
    "deletable": true,
    "editable": true
   },
   "outputs": [
    {
     "name": "stdout",
     "output_type": "stream",
     "text": [
      "User: SPORT1 Follower_count: 568070\n",
      "Follower List\n",
      "+-----------+----------------+\n",
      "| ID        | Username       |\n",
      "+-----------+----------------+\n",
      "| 326143683 | portierjohan17 |\n",
      "+-----------+----------------+\n",
      "Friend List\n",
      "+------------+-----------------+\n",
      "| ID         | Username        |\n",
      "+------------+-----------------+\n",
      "| 327331784  | Kerry_Hau       |\n",
      "| 87249115   | alenagerber     |\n",
      "| 144318730  | altobelli13     |\n",
      "| 1964370985 | MichaelPrieler  |\n",
      "| 1860250034 | Koelner_Haie_72 |\n",
      "| 1961402887 | LoLGrabbZ       |\n",
      "| 30856425   | TotalRugby      |\n",
      "+------------+-----------------+\n"
     ]
    }
   ],
   "source": [
    "import json\n",
    "from prettytable import PrettyTable\n",
    "\n",
    "#open twitter data\n",
    "with open('data.json', 'r') as infile:\n",
    "    statuses = json.load(infile)\n",
    "\n",
    "#tuple containing a users follower count and screen name for every tweet collected\n",
    "followercounts = [\n",
    "                (status['user']['followers_count'], \n",
    "                 status['user']['screen_name'])\n",
    "                 for status in statuses\n",
    "                 ]\n",
    "\n",
    "#finds the user with the most followers\n",
    "mostpopularuser = max(followercounts)\n",
    "print 'User: ' + mostpopularuser[1] + ' Follower_count: ' + str(mostpopularuser[0])\n",
    "\n",
    "#builds two list of 20 ids for the users following and users that are friends with the popular user\n",
    "followerids = tapi.followers.ids(screen_name = mostpopularuser[1], count=22)['ids']\n",
    "friendids = tapi.friends.ids(screen_name = mostpopularuser[1], count=22)['ids']\n",
    "\n",
    "#gets detailed user information using the id lists\n",
    "followers = tapi.users.lookup(user_id=followerids)\n",
    "friends = tapi.users.lookup(user_id=friendids)\n",
    "\n",
    "#tuples that contain a users id and username\n",
    "followerinfo = [\n",
    "              (user['id'],\n",
    "               user['screen_name'])\n",
    "               for user in followers \n",
    "               ]\n",
    "friendinfo = [\n",
    "              (user['id'],\n",
    "               user['screen_name'])\n",
    "               for user in friends \n",
    "               ]\n",
    "\n",
    "#creates tables for the friends and for the followers\n",
    "pt = PrettyTable(field_names=['ID', 'Username'])\n",
    "[ pt.add_row(user) for user in followerinfo]\n",
    "pt.align['ID'], pt.align['Username'] = 'l', 'l'\n",
    "print 'Follower List'   \n",
    "print pt\n",
    "\n",
    "pt = PrettyTable(field_names=['ID', 'Username'])\n",
    "[ pt.add_row(user) for user in friendinfo ]\n",
    "pt.align['ID'], pt.align['Username'] = 'l', 'l'\n",
    "print 'Friend List'   \n",
    "print pt"
   ]
  },
  {
   "cell_type": "markdown",
   "metadata": {
    "deletable": true,
    "editable": true
   },
   "source": [
    "# The Solution: implement a data science solution to the problem you are trying to solve."
   ]
  },
  {
   "cell_type": "markdown",
   "metadata": {
    "deletable": true,
    "editable": true
   },
   "source": [
    "Briefly describe the idea of your solution to the problem in the following cell:"
   ]
  },
  {
   "cell_type": "markdown",
   "metadata": {
    "collapsed": true,
    "deletable": true,
    "editable": true
   },
   "source": [
    "Using the data collected from the twitter api, we help\n",
    "companies reduce overstock of products that do not appeal\n",
    "to the general market. This generates less backlash and more profit. \n",
    "With these companies donating excess profit they make\n",
    "in a fiscal year, they are not only boosting their PR, \n",
    "but also helping charity research."
   ]
  },
  {
   "cell_type": "markdown",
   "metadata": {
    "deletable": true,
    "editable": true
   },
   "source": [
    "Write codes to implement the solution in python:"
   ]
  },
  {
   "cell_type": "code",
   "execution_count": 29,
   "metadata": {
    "collapsed": false,
    "deletable": true,
    "editable": true
   },
   "outputs": [
    {
     "name": "stdout",
     "output_type": "stream",
     "text": [
      "Team name, # of tweets\n",
      "{'Wolverines': 550, 'Mountaineers': 306, 'Bulldogs': 92, 'Ducks': 213}\n",
      "Team name, % of tweets\n",
      "[('Wolverines', '47.37%'), ('Mountaineers', '26.36%'), ('Bulldogs', '7.92%'), ('Ducks', '18.35%')]\n"
     ]
    }
   ],
   "source": [
    "import json\n",
    "import re\n",
    "\n",
    "with open('data.json', 'r') as infile:\n",
    "    statuses = json.load(infile)\n",
    "    \n",
    "status_texts = [ status['text']\n",
    "                for status in statuses ]\n",
    "\n",
    "for text in status_texts:\n",
    "    for w in re.findall(r\"\\w+\", text):\n",
    "        if w in teamcounter:\n",
    "            teamcounter[w] += 1\n",
    "\n",
    "# grabbing the frequency and team names out of the tupil\n",
    "team_frequency = [count for team, count in teamcounter.iteritems()]    \n",
    "team_names = [team for team, count in teamcounter.iteritems()]            \n",
    "\n",
    "print 'Team name, # of tweets'\n",
    "print teamcounter\n",
    "\n",
    "total_tweets = sum(team_frequency)\n",
    "percentages = [(team, (str(round(float(count)/float(total_tweets) * 100, 2))) + \"%\") for team, count in teamcounter.iteritems()] \n",
    "\n",
    "print 'Team name, % of tweets'\n",
    "print percentages"
   ]
  },
  {
   "cell_type": "markdown",
   "metadata": {
    "deletable": true,
    "editable": true
   },
   "source": [
    "# Results: summarize and visualize the results discovered from the analysis\n",
    "\n",
    "Please use figures, tables, or videos to communicate the results with the audience.\n"
   ]
  },
  {
   "cell_type": "code",
   "execution_count": 30,
   "metadata": {
    "collapsed": false,
    "deletable": true,
    "editable": true
   },
   "outputs": [
    {
     "data": {
      "image/png": "[encoded data removed]",
      "text/plain": [
       "<matplotlib.figure.Figure at 0x7318748>"
      ]
     },
     "metadata": {},
     "output_type": "display_data"
    }
   ],
   "source": [
    "import matplotlib.pyplot as barplt; barplt.rcdefaults()\n",
    "import numpy as np\n",
    "import matplotlib.pyplot as barplt\n",
    "\n",
    "# loading the data into the graph and labeling it\n",
    "y_pos = np.arange(len(team_names))\n",
    "barplt.bar(y_pos, team_frequency, align='center', alpha=0.5)\n",
    "barplt.xticks(y_pos, team_names)\n",
    "barplt.ylabel('Tweet Frequency')\n",
    "barplt.title('Team Tweet Frequency')\n",
    " \n",
    "barplt.show()"
   ]
  },
  {
   "cell_type": "markdown",
   "metadata": {
    "deletable": true,
    "editable": true
   },
   "source": [
    "*-----------------\n",
    "# Done\n",
    "\n",
    "All set! \n",
    "\n",
    "** What do you need to submit?**\n",
    "\n",
    "* **Notebook File**: Save this Jupyter notebook, and find the notebook file in your folder (for example, \"filename.ipynb\"). This is the file you need to submit. Please make sure all the plotted tables and figures are in the notebook. If you used \"jupyter notebook --pylab=inline\" to open the notebook, all the figures and tables should have shown up in the notebook.\n",
    "\n",
    "* **PPT Slides**: please prepare PPT slides (for 10 minutes' talk) to present about the case study . Each team present their case studies in class for 10 minutes.\n",
    "\n",
    "Please compress all the files in a zipped file.\n",
    "\n",
    "\n",
    "** How to submit: **\n",
    "\n",
    "        Please submit through Canvas, in the Assignment \"Case Study 1\".\n",
    "        \n",
    "** Note: Each team only needs to submit one submission in Canvas **"
   ]
  },
  {
   "cell_type": "markdown",
   "metadata": {
    "deletable": true,
    "editable": true
   },
   "source": [
    "\n",
    "# Peer-Review Grading Template:\n",
    "\n",
    "** Total Points: (100 points) ** Please don't worry about the absolute scores, we will rescale the final grading according to the performance of all teams in the class.\n",
    "\n",
    "Please add an \"**X**\" mark in front of your rating: \n",
    "\n",
    "For example:\n",
    "\n",
    "*2: bad*\n",
    "          \n",
    "**X** *3: good*\n",
    "    \n",
    "*4: perfect*\n",
    "\n",
    "\n",
    "    ---------------------------------\n",
    "    The Problem: \n",
    "    ---------------------------------\n",
    "    \n",
    "    1. (5 points) how well did the team describe the problem they are trying to solve using twitter data? \n",
    "       0: not clear\n",
    "       1: I can barely understand the problem\n",
    "       2: okay, can be improved\n",
    "       3: good, but can be improved\n",
    "       4: very good\n",
    "       5: crystal clear\n",
    "    \n",
    "    2. (10 points) do you think the problem is important or has a potential impact?\n",
    "        0: not important at all\n",
    "        2: not sure if it is important\n",
    "        4: seems important, but not clear\n",
    "        6: interesting problem\n",
    "        8: an important problem, which I want to know the answer myself\n",
    "       10: very important, I would be happy invest money on a project like this.\n",
    "    \n",
    "    ----------------------------------\n",
    "    Data Collection:\n",
    "    ----------------------------------\n",
    "    \n",
    "    3. (10 points) Do you think the data collected are relevant and sufficient for solving the above problem? \n",
    "       0: not clear\n",
    "       2: I can barely understand what data they are trying to collect\n",
    "       4: I can barely understand why the data is relevant to the problem\n",
    "       6: the data are relevant to the problem, but better data can be collected\n",
    "       8: the data collected are relevant and at a proper scale (> 300 tweets)\n",
    "      10: the data are properly collected and they are sufficient\n",
    "\n",
    "    -----------------------------------\n",
    "    Data Exploration:\n",
    "    -----------------------------------\n",
    "    4. How well did the team solve the following task:\n",
    "    (1) Word Count (5 points):\n",
    "       0: missing answer\n",
    "       1: okay, but with major problems\n",
    "       3: good, but with minor problems\n",
    "       5: perfect\n",
    "    \n",
    "    (2) Find the most popular tweets in your collection of tweets: (5 points)\n",
    "       0: missing answer\n",
    "       1: okay, but with major problems\n",
    "       3: good, but with minor problems\n",
    "       5: perfect\n",
    "    \n",
    "    (3) Find popular twitter entities  (5 points)\n",
    "       0: missing answer\n",
    "       1: okay, but with major problems\n",
    "       3: good, but with minor problems\n",
    "       5: perfect\n",
    "\n",
    "    (4) Find user's followers and friends (5 points)\n",
    "       0: missing answer\n",
    "       1: okay, but with major problems\n",
    "       3: good, but with minor problems\n",
    "       5: perfect\n",
    "\n",
    "    -----------------------------------\n",
    "    The Solution\n",
    "    -----------------------------------\n",
    "    5.  how well did the team describe the solution they used to solve the problem? \n",
    "       0: not clear\n",
    "       2: I can barely understand\n",
    "       4: okay, can be improved\n",
    "       6: good, but can be improved\n",
    "       8: very good\n",
    "       10: crystal clear\n",
    "       \n",
    "    6. how well is the solution in solving the problem? \n",
    "       0: not relevant\n",
    "       1: barely relevant to the problem\n",
    "       2: okay solution, but there is an easier solution.\n",
    "       3: good, but can be improved\n",
    "       4: very good, but solution is simple/old\n",
    "       5: innovative and technically sound\n",
    "       \n",
    "    7. how well did the team implement the solution in python? \n",
    "       0: the code is not relevant to the solution proposed\n",
    "       2: the code is barely understandable, but not relevant\n",
    "       4: okay, the code is clear but incorrect\n",
    "       6: good, the code is correct, but with major errors\n",
    "       8: very good, the code is correct, but with minor errors\n",
    "      10: perfect \n",
    "   \n",
    "    -----------------------------------\n",
    "    The Results\n",
    "    -----------------------------------\n",
    "     8.  How well did the team present the results they found in the data? \n",
    "       0: not clear\n",
    "       2: I can barely understand\n",
    "       4: okay, can be improved\n",
    "       6: good, but can be improved\n",
    "       8: very good\n",
    "      10: crystal clear\n",
    "       \n",
    "     9.  How do you think the results they found in the data? \n",
    "       0: not clear\n",
    "       1: likely to be wrong\n",
    "       2: okay, maybe wrong\n",
    "       3: good, but can be improved\n",
    "       4: make sense, but not interesting\n",
    "       5: make sense and very interesting\n",
    "     \n",
    "    -----------------------------------\n",
    "    The Presentation\n",
    "    -----------------------------------\n",
    "    10. How all the different parts (data, problem, solution, result) fit together as a coherent story?  \n",
    "       0: they are irrelevant\n",
    "       1: I can barely understand how they are related to each other\n",
    "       2: okay, the problem is good, but the solution doesn't match well, or the problem is not solvable.\n",
    "       3: good, but the results don't make much sense in the context\n",
    "       4: very good fit, but not exciting (the storyline can be improved/polished)\n",
    "       5: a perfect story\n",
    "      \n",
    "    11. Did the presenter make good use of the 10 minutes for presentation?  \n",
    "       0: the team didn't present\n",
    "       1: bad, barely finished a small part of the talk\n",
    "       2: okay, barely finished most parts of the talk.\n",
    "       3: good, finished all parts of the talk, but some part is rushed\n",
    "       4: very good, but the allocation of time on different parts can be improved.\n",
    "       5: perfect timing and good use of time      \n",
    "\n",
    "    12. How well do you think of the presentation (overall quality)?  \n",
    "       0: the team didn't present\n",
    "       1: bad\n",
    "       2: okay\n",
    "       3: good\n",
    "       4: very good\n",
    "       5: perfect\n",
    "\n",
    "\n",
    "    -----------------------------------\n",
    "    Overall: \n",
    "    -----------------------------------\n",
    "    13. How many points out of the 100 do you give to this project in total?  Please don't worry about the absolute scores, we will rescale the final grading according to the performance of all teams in the class.\n",
    "    Total score:\n",
    "    \n",
    "    14. What are the strengths of this project? Briefly, list up to 3 strengths.\n",
    "       1: \n",
    "       2:\n",
    "       3:\n",
    "    \n",
    "    15. What are the weaknesses of this project? Briefly, list up to 3 weaknesses.\n",
    "       1:\n",
    "       2:\n",
    "       3:\n",
    "    \n",
    "    16. Detailed comments and suggestions. What suggestions do you have for this project to improve its quality further.\n",
    "    \n",
    "    \n",
    "    \n",
    "\n",
    "    ---------------------------------\n",
    "    Your Vote: \n",
    "    ---------------------------------\n",
    "    1. [Overall Quality] Between the two submissions that you are reviewing, which team would you vote for a better score?  \n",
    "       -1: I vote the other team is better than this team\n",
    "        0: the same\n",
    "        1: I vote this team is better than the other team \n",
    "        \n",
    "    2. [Presentation] Among all the teams in the presentation, which team do you think deserves the best presentation award for this case study?  \n",
    "        1: Team 1\n",
    "        2: Team 2\n",
    "        3: Team 3\n",
    "        4: Team 4\n",
    "        5: Team 5\n",
    "        6: Team 6\n",
    "        7: Team 7\n",
    "        8: Team 8\n",
    "        9: Team 9\n",
    "       10: Team 10\n",
    "\n"
   ]
  },
  {
   "cell_type": "code",
   "execution_count": null,
   "metadata": {
    "collapsed": false,
    "deletable": true,
    "editable": true
   },
   "outputs": [],
   "source": []
  }
 ],
 "metadata": {
  "kernelspec": {
   "display_name": "Python 2",
   "language": "python",
   "name": "python2"
  },
  "language_info": {
   "codemirror_mode": {
    "name": "ipython",
    "version": 2
   },
   "file_extension": ".py",
   "mimetype": "text/x-python",
   "name": "python",
   "nbconvert_exporter": "python",
   "pygments_lexer": "ipython2",
   "version": "2.7.13"
  }
 },
 "nbformat": 4,
 "nbformat_minor": 0
}
