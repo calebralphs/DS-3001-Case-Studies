{
 "cells": [
  {
   "cell_type": "markdown",
   "metadata": {},
   "source": [
    "# Case Study 5 : Data Science in Email Data"
   ]
  },
  {
   "cell_type": "markdown",
   "metadata": {},
   "source": [
    "**Required Readings:** \n",
    "* [Enron Emails](https://www.kaggle.com/wcukierski/enron-email-dataset) \n",
    "* Please download the Enron Email dataset from [here](https://www.cs.cmu.edu/~./enron/).\n",
    "* [TED Talks](https://www.ted.com/talks) for examples of 10 minutes talks.\n",
    "\n",
    "\n",
    "** NOTE **\n",
    "* Please don't forget to save the notebook frequently when working in Jupyter Notebook, otherwise the changes you made can be lost.\n",
    "\n",
    "*----------------------"
   ]
  },
  {
   "cell_type": "markdown",
   "metadata": {},
   "source": [
    "# Problem: pick a data science problem that you plan to solve using Email Data\n",
    "* The problem should be important and interesting, which has a potential impact in some area.\n",
    "* The problem should be solvable using the data and data science solutions.\n",
    "\n",
    "Please briefly describe in the following cell: what problem are you trying to solve? why this problem is important and interesting?"
   ]
  },
  {
   "cell_type": "code",
   "execution_count": null,
   "metadata": {
    "collapsed": true
   },
   "outputs": [],
   "source": []
  },
  {
   "cell_type": "markdown",
   "metadata": {},
   "source": [
    "# Data Collection/Processing: "
   ]
  },
  {
   "cell_type": "code",
   "execution_count": 6,
   "metadata": {
    "collapsed": false
   },
   "outputs": [],
   "source": [
    "import csv\n",
    "import sys\n",
    "csv.field_size_limit(sys.maxint)\n",
    "from email import message_from_string\n",
    "email_data = []\n",
    "# reading in all of the messages from the csv where the format is file, message\n",
    "with open('emails.csv') as f:\n",
    "    reader = csv.reader(f)\n",
    "    for message in list(reader)[1:]:\n",
    "        email_data.append(message_from_string(message[1]))\n",
    "# runs in just under 2 minutes"
   ]
  },
  {
   "cell_type": "markdown",
   "metadata": {},
   "source": [
    "# Data Exploration: Exploring the Email Dataset\n",
    "\n",
    "** plot email communication graph/network** \n",
    "* each node is an email account\n",
    "* the weight of an edge between two accounts depends on how many emails have been sent between them."
   ]
  },
  {
   "cell_type": "code",
   "execution_count": null,
   "metadata": {
    "collapsed": false
   },
   "outputs": [],
   "source": []
  },
  {
   "cell_type": "markdown",
   "metadata": {},
   "source": [
    "# The Solution: implement a data science solution to the problem you are trying to solve."
   ]
  },
  {
   "cell_type": "markdown",
   "metadata": {},
   "source": [
    "Briefly describe the idea of your solution to the problem in the following cell:"
   ]
  },
  {
   "cell_type": "code",
   "execution_count": null,
   "metadata": {
    "collapsed": true
   },
   "outputs": [],
   "source": []
  },
  {
   "cell_type": "markdown",
   "metadata": {},
   "source": [
    "Write codes to implement the solution in python:"
   ]
  },
  {
   "cell_type": "code",
   "execution_count": 15,
   "metadata": {
    "collapsed": false
   },
   "outputs": [],
   "source": [
    "# parsing the messages into a list of tupils of date, body\n",
    "import email.utils as eut\n",
    "date_body = []\n",
    "for message in email_data:\n",
    "    date = eut.parsedate(message['Date'])[:3]\n",
    "    body = message.get_payload()\n",
    "    if (date[0] == 2001):\n",
    "        date_body.append((date, body))"
   ]
  },
  {
   "cell_type": "code",
   "execution_count": 16,
   "metadata": {
    "collapsed": false
   },
   "outputs": [],
   "source": [
    "# making a dictionary of all of the email bodies from each day\n",
    "emails_by_date = {}\n",
    "for email in date_body:\n",
    "    date = email[0]\n",
    "    body = email[1]\n",
    "    if date in emails_by_date:\n",
    "        emails_by_date[date].append(body)\n",
    "    else:\n",
    "        emails_by_date[date] = [body]"
   ]
  },
  {
   "cell_type": "code",
   "execution_count": 32,
   "metadata": {
    "collapsed": false
   },
   "outputs": [],
   "source": [
    "# doing sentiment analysis of every sentence in every email in 2001\n",
    "from textblob import TextBlob\n",
    "day_sentiment = {}\n",
    "day_polarity = 0\n",
    "email_polarity = 0\n",
    "for date, bodies in emails_by_date.items():\n",
    "    for body in bodies:\n",
    "        for sentence in TextBlob(body).sentences:\n",
    "            if sentence.sentiment.polarity <-.5:\n",
    "                email_polarity += sentence.sentiment.polarity\n",
    "        day_polarity += email_polarity/len(TextBlob(body).sentences)\n",
    "        email_polarity = 0\n",
    "    day_sentiment[date] = day_polarity\n",
    "    day_polarity = 0\n",
    "#    print date, day_sentiment[date]"
   ]
  },
  {
   "cell_type": "code",
   "execution_count": 36,
   "metadata": {
    "collapsed": false,
    "scrolled": false
   },
   "outputs": [
    {
     "name": "stdout",
     "output_type": "stream",
     "text": [
      "{(2001, 6, 29): -0.7871767788160351, (2001, 7, 3): -1.4195619406065332, (2001, 10, 4): -2.508840536955911, (2001, 3, 16): -2.3923117598902763, (2001, 12, 8): -0.08559713307419728, (2001, 5, 12): -0.11696969696969695, (2001, 8, 31): -0.5666859739924256, (2001, 1, 25): -6.206914919445877, (2001, 2, 15): -7.628942999126651, (2001, 11, 3): -0.6708333333333333, (2001, 6, 21): -7.402731038294261, (2001, 9, 20): -2.459708997015286, (2001, 10, 12): -2.5665581098573114, (2001, 3, 24): -0.02560975609756097, (2001, 4, 28): -0.46875, (2001, 5, 4): -7.341873103720179, (2001, 8, 7): -0.4900796195002391, (2001, 1, 17): -2.7713210510249984, (2001, 2, 7): -5.339082628776778, (2001, 7, 26): -2.69943958325512, (2001, 11, 27): -13.39806082099872, (2001, 12, 17): -1.258524986814904, (2001, 6, 13): -0.8394115578715398, (2001, 9, 28): -2.7965403142936034, (2001, 2, 24): -0.5, (2001, 4, 20): -6.786500784589205, (2001, 8, 15): -1.8585688013677144, (2001, 1, 9): -3.9843726196294367, (2001, 7, 18): -7.230953908372713, (2001, 10, 21): -0.8284508989394902, (2001, 11, 19): -12.57625342614323, (2001, 12, 25): -0.5469436369509044, (2001, 5, 31): -6.84143648043323, (2001, 6, 5): -7.98320077455779, (2001, 9, 4): -2.0721022983567736, (2001, 2, 16): -0.8917702241715401, (2001, 3, 8): -3.236815785943914, (2001, 4, 12): -7.062604012225982, (2001, 1, 1): 0, (2001, 7, 10): -2.59525742860824, (2001, 10, 29): -12.128939773746007, (2001, 3, 23): -3.0369302814919332, (2001, 12, 1): -0.04183673469387755, (2001, 5, 23): -13.669466322685748, (2001, 8, 20): -1.1509388702126364, (2001, 9, 12): -5.154976320496563, (2001, 2, 8): -7.026902540657265, (2001, 4, 4): -8.262325528511866, (2001, 11, 10): -0.12624546721847313, (2001, 6, 30): -0.04827586206896551, (2001, 7, 2): -2.1563831001520635, (2001, 10, 5): -2.0848100180126847, (2001, 3, 31): -0.6682692307692308, (2001, 12, 9): -0.10224056603773585, (2001, 5, 15): -12.978657721962659, (2001, 8, 28): -2.4342530831317455, (2001, 1, 24): -4.177766672317864, (2001, 11, 2): -6.73399040901145, (2001, 12, 22): -0.06504332800502884, (2001, 6, 22): -0.7114834377290854, (2001, 9, 23): -0.5117683477284927, (2001, 10, 13): -0.06247470238095238, (2001, 3, 7): -7.03028497852121, (2001, 4, 29): -0.16673469387755105, (2001, 5, 7): -6.927355190768363, (2001, 8, 4): -0.03551401869158878, (2001, 1, 16): -3.6531757053340663, (2001, 7, 25): -1.0974862565199446, (2001, 11, 26): -15.895911014173395, (2001, 12, 30): -0.09347826086956522, (2001, 6, 14): -2.366311568528235, (2001, 2, 25): -0.31745208817990467, (2001, 3, 15): -5.259079244894065, (2001, 4, 21): -0.022857142857142857, (2001, 8, 12): -0.0681917211328976, (2001, 1, 8): -2.868923856004066, (2001, 7, 17): -1.6817122061834124, (2001, 10, 22): -10.915921478678088, (2001, 11, 18): -0.6189228968707133, (2001, 12, 6): -1.360930880847577, (2001, 5, 30): -6.190482853456228, (2001, 6, 6): -11.795061532292939, (2001, 9, 7): -0.5059102278889189, (2001, 2, 17): 0, (2001, 4, 13): -1.2556182130877256, (2001, 7, 9): -0.9014687480461321, (2001, 10, 30): -5.241815080015706, (2001, 3, 22): -2.8559192648210776, (2001, 12, 14): -1.215515395284561, (2001, 5, 22): -4.1921442127673245, (2001, 8, 21): -1.640147674115169, (2001, 9, 15): -0.07980000000000001, (2001, 2, 9): -4.182585443810903, (2001, 4, 5): -5.106604832826434, (2001, 11, 9): -5.677828892471782, (2001, 7, 1): -0.5596503496503495, (2001, 10, 6): -0.1223901098901099, (2001, 3, 30): -2.5058414005349334, (2001, 5, 14): -12.548161604394418, (2001, 8, 29): -1.4445427845370253, (2001, 1, 27): 0, (2001, 2, 1): -1.6749430129438143, (2001, 11, 1): -5.412917603653835, (2001, 12, 23): -0.20027175188891966, (2001, 6, 23): 0, (2001, 9, 22): -0.0062724014336917565, (2001, 10, 14): -0.17198660714285713, (2001, 3, 6): -4.825475251472054, (2001, 4, 26): -4.3747365941414555, (2001, 5, 6): -0.42339690226577575, (2001, 8, 5): 0, (2001, 1, 19): -3.1792547564936897, (2001, 7, 24): -2.507525798572435, (2001, 11, 25): -0.424122561290596, (2001, 12, 31): -0.6520208251034699, (2001, 6, 15): -0.7918820556941701, (2001, 9, 30): -0.08226948874231164, (2001, 2, 26): -3.9146998476003056, (2001, 3, 14): -6.418449924067851, (2001, 4, 18): -6.28277473706872, (2001, 8, 13): -4.447117289358273, (2001, 1, 11): -1.3426023464420165, (2001, 7, 16): -2.51149736578896, (2001, 10, 23): -14.178452436015665, (2001, 11, 17): -0.9532251786332937, (2001, 12, 7): -1.8027794234607317, (2001, 5, 25): -4.141087751024899, (2001, 6, 7): -11.211857606506198, (2001, 8, 18): -0.00532258064516129, (2001, 9, 6): -1.4869835451242357, (2001, 2, 18): 0, (2001, 4, 10): -7.039106789526431, (2001, 1, 3): -2.762321110110439, (2001, 7, 8): -1.4537111854311104, (2001, 10, 31): -6.587033596975693, (2001, 3, 21): -8.235917250781366, (2001, 12, 15): -0.015067340067340068, (2001, 5, 17): -14.897091917537615, (2001, 8, 26): -0.26406547619047616, (2001, 9, 14): -0.9709312762229887, (2001, 2, 10): 0, (2001, 4, 2): -2.7881683594871656, (2001, 11, 8): -5.237721237885964, (2001, 6, 24): -0.09959816303099885, (2001, 9, 17): -7.067857394344828, (2001, 10, 7): -0.013725490196078428, (2001, 3, 29): -4.148973181220283, (2001, 5, 9): -6.708400417078552, (2001, 8, 2): -0.7728085975536163, (2001, 1, 26): -5.245876896341592, (2001, 2, 2): -1.656751096179837, (2001, 12, 20): -3.563696416747881, (2001, 6, 16): 0, (2001, 9, 25): -2.829373027793922, (2001, 10, 15): -5.8606060907648, (2001, 3, 5): -2.9118934046457836, (2001, 4, 27): -8.31548180438449, (2001, 5, 1): -11.203267992251643, (2001, 8, 10): -2.342798180251102, (2001, 1, 18): -4.4127800982159675, (2001, 7, 31): -0.6638467037918308, (2001, 10, 16): -9.102893304182457, (2001, 11, 24): -0.29026991505824457, (2001, 12, 28): -1.6473279814119481, (2001, 6, 8): -3.7038531230771707, (2001, 9, 1): 0, (2001, 2, 27): -4.74926271417758, (2001, 3, 13): -4.080494672726802, (2001, 4, 19): -9.286473715323218, (2001, 1, 10): -4.302619682236179, (2001, 7, 23): -3.8505909316253417, (2001, 10, 24): -11.942183347098979, (2001, 11, 16): -2.9614949981547607, (2001, 12, 4): -3.4814185051393585, (2001, 5, 24): -8.716676850261313, (2001, 8, 19): -0.0057692307692307696, (2001, 9, 9): -0.03777777777777778, (2001, 2, 19): -1.5424645390070921, (2001, 4, 11): -4.945183066659231, (2001, 1, 2): -1.9272549019607843, (2001, 11, 15): -7.375408777764497, (2001, 7, 15): 0, (2001, 3, 20): -6.580158405774195, (2001, 12, 12): -1.9852947391751739, (2001, 5, 16): -9.002661122710387, (2001, 8, 27): -0.7263341883648122, (2001, 2, 11): -1.7554056047197641, (2001, 4, 3): -6.8448634386387885, (2001, 11, 7): -4.684262389905352, (2001, 6, 25): -3.9533759842759557, (2001, 7, 7): -0.18, (2001, 9, 16): 0, (2001, 10, 8): -5.506402807377103, (2001, 3, 28): -5.967582196803955, (2001, 5, 8): -5.319306314170137, (2001, 8, 3): -0.7474936262065883, (2001, 1, 29): -6.1652047258297245, (2001, 2, 3): -1.4283625730994152, (2001, 12, 21): -3.1108540405404987, (2001, 6, 17): 0, (2001, 9, 24): -4.442636196282914, (2001, 3, 4): -0.8555555555555554, (2001, 4, 24): -4.500193009346462, (2001, 8, 11): 0, (2001, 1, 21): -1.0490997203947157, (2001, 7, 30): -5.340449575378347, (2001, 10, 17): -9.005457249569124, (2001, 11, 23): -1.7120390530279632, (2001, 12, 29): -0.5315830546265329, (2001, 6, 9): -0.01713267543859649, (2001, 2, 28): -7.0983897462681185, (2001, 3, 12): -5.515807103895339, (2001, 4, 16): -5.082606027526454, (2001, 1, 13): -0.32307692307692304, (2001, 7, 22): -0.2477319587628866, (2001, 10, 25): -13.368831025376457, (2001, 12, 5): -1.991151041668035, (2001, 5, 27): -0.10106209150326798, (2001, 6, 1): -8.271279126111253, (2001, 8, 16): -1.3892705350751609, (2001, 9, 8): -0.0789862914862915, (2001, 2, 20): -4.259690472048733, (2001, 4, 8): -1.8000000000000005, (2001, 1, 5): -2.3247424685737377, (2001, 11, 14): -5.343893151787611, (2001, 7, 14): -0.6274530956848029, (2001, 10, 1): -7.03221603758433, (2001, 3, 19): -8.158642951792524, (2001, 12, 13): -3.2549685741440806, (2001, 5, 19): -0.14809907834101382, (2001, 8, 24): -1.2016282476155682, (2001, 2, 12): -2.380361752851611, (2001, 11, 6): -10.69363095168549, (2001, 6, 26): -2.8019865864407314, (2001, 7, 6): -2.969492316862879, (2001, 9, 19): -4.777894295200656, (2001, 10, 9): -6.811341455440935, (2001, 3, 27): -2.113480797538422, (2001, 5, 11): -8.785321472695804, (2001, 1, 28): -0.09749999999999998, (2001, 2, 4): -0.48195868945868947, (2001, 11, 30): -2.941995905223503, (2001, 12, 18): -1.1666424109007205, (2001, 6, 18): -3.830620487818394, (2001, 9, 27): -4.947288387429163, (2001, 3, 3): -0.030867346938775513, (2001, 4, 25): -9.495213142286316, (2001, 5, 3): -3.040211618703371, (2001, 8, 8): -3.3756585505251304, (2001, 1, 20): -0.07142857142857142, (2001, 7, 29): 0, (2001, 10, 18): -8.235644315582759, (2001, 11, 22): -0.9174111458195022, (2001, 12, 26): -2.091378518476874, (2001, 6, 10): -0.21619134833420553, (2001, 9, 3): 0, (2001, 3, 11): -0.014018691588785047, (2001, 4, 17): -5.078740308409083, (2001, 1, 12): -2.2017133519287864, (2001, 7, 21): -0.07780464216634429, (2001, 10, 26): -16.068043630537495, (2001, 12, 2): 0, (2001, 5, 26): -0.14047619047619048, (2001, 6, 2): -0.21390692640692643, (2001, 8, 17): -2.902637622663055, (2001, 9, 11): -1.7084149457391145, (2001, 2, 21): -2.977933852898838, (2001, 4, 9): -8.97016810778835, (2001, 1, 4): -1.58108118723218, (2001, 11, 13): -5.2453269362607635, (2001, 7, 13): -2.4218154132580394, (2001, 10, 2): -3.5850853682087367, (2001, 3, 18): -0.21868161360914976, (2001, 12, 10): -1.9663510195332852, (2001, 5, 18): -8.98822767679189, (2001, 8, 25): -0.08846153846153847, (2001, 2, 13): -2.999299283186829, (2001, 4, 1): -0.1683870967741935, (2001, 11, 5): -9.36921684462176, (2001, 6, 27): -0.7690253717215889, (2001, 7, 5): -0.453695688944227, (2001, 9, 18): -5.222196539449033, (2001, 10, 10): -4.313974517798964, (2001, 3, 26): -2.3300381260857455, (2001, 4, 30): -5.979433682740876, (2001, 5, 10): -6.741646770980303, (2001, 8, 1): -1.0708328382303272, (2001, 1, 31): -4.620001981906631, (2001, 2, 5): -2.1202468479588825, (2001, 11, 29): -2.0378453947187922, (2001, 12, 19): -3.0673483819402687, (2001, 6, 19): -2.2546881025950793, (2001, 9, 26): -3.0011361670284202, (2001, 3, 2): -2.2483503069196114, (2001, 4, 22): -0.28435260946483853, (2001, 5, 2): -5.66499136686016, (2001, 8, 9): -2.889011605341658, (2001, 1, 23): -4.093829083129033, (2001, 7, 28): 0, (2001, 10, 19): -7.7880138108590184, (2001, 11, 21): -8.779875304957482, (2001, 12, 27): -5.064943122905726, (2001, 5, 29): -9.941553905997583, (2001, 6, 11): -0.9312750965776776, (2001, 9, 2): 0, (2001, 3, 10): -0.1602564102564103, (2001, 4, 14): 0, (2001, 1, 15): -0.07433100824350032, (2001, 7, 20): -1.3191161896440344, (2001, 10, 27): -0.41934360589915004, (2001, 12, 3): -0.8238482312716809, (2001, 5, 21): -5.341182994091245, (2001, 6, 3): -0.469592151275524, (2001, 8, 22): -0.7029997212383576, (2001, 9, 10): -0.8691291388253214, (2001, 2, 22): -4.6412871489177245, (2001, 4, 6): -9.95457817723868, (2001, 1, 7): -0.08035714285714285, (2001, 11, 12): -5.168799435000191, (2001, 6, 28): -0.5575295466061988, (2001, 7, 12): -1.2669053452353483, (2001, 10, 3): -3.979548318107164, (2001, 3, 17): 0, (2001, 12, 11): -2.2538768074949624, (2001, 5, 13): -0.10708471595904592, (2001, 8, 30): -1.0637413102217632, (2001, 2, 14): -5.444471610389822, (2001, 11, 4): -0.3330700549450549, (2001, 6, 20): -4.032974683895358, (2001, 7, 4): -0.37322607260726076, (2001, 9, 21): -2.6893952725149255, (2001, 10, 11): -4.584693858286391, (2001, 3, 25): 0, (2001, 5, 5): -0.3125, (2001, 8, 6): -1.405503569263911, (2001, 1, 30): -4.888381447587715, (2001, 2, 6): -5.548809600642717, (2001, 7, 27): -1.2381561792968847, (2001, 11, 28): -2.598860153045199, (2001, 12, 16): -0.1370611313400687, (2001, 6, 12): -0.3605404786002897, (2001, 9, 29): -0.03441191576784797, (2001, 3, 1): -3.878600672955151, (2001, 4, 23): -7.096972693488084, (2001, 8, 14): -2.1331662394035895, (2001, 1, 22): -3.3021754674260295, (2001, 7, 19): -3.0339055325204574, (2001, 10, 20): -1.4435592312278165, (2001, 11, 20): -11.506815049456568, (2001, 12, 24): -0.2787247147171959, (2001, 5, 28): -0.34644790532990866, (2001, 6, 4): -6.521857082107432, (2001, 9, 5): -1.976652565951082, (2001, 3, 9): -3.571655903570254, (2001, 4, 15): -0.8479225319069073, (2001, 1, 14): -0.187037037037037, (2001, 7, 11): -3.509055852828452, (2001, 10, 28): -0.7987280483384214, (2001, 5, 20): -0.2676688114930986, (2001, 8, 23): -1.8832803398157987, (2001, 9, 13): -4.969326796105866, (2001, 2, 23): -1.5019580770927037, (2001, 4, 7): -0.6002403846153845, (2001, 1, 6): -0.8, (2001, 11, 11): -0.16212759462759463}\n"
     ]
    }
   ],
   "source": [
    "print day_sentiment"
   ]
  },
  {
   "cell_type": "code",
   "execution_count": 44,
   "metadata": {
    "collapsed": false
   },
   "outputs": [
    {
     "name": "stdout",
     "output_type": "stream",
     "text": [
      "-16.0680436305\n"
     ]
    }
   ],
   "source": [
    "s = sorted(day_sentiment, key = lambda x: (x[0], x[1], x[2]))\n",
    "sorted_by_date = []\n",
    "for year, month, day in s:\n",
    "    sorted_by_date.append(day_sentiment[year, month, day])\n",
    "print min(sorted_by_date)"
   ]
  },
  {
   "cell_type": "markdown",
   "metadata": {},
   "source": [
    "# Results: summarize and visualize the results discovered from the analysis\n",
    "\n",
    "Please use figures, tables, or videos to communicate the results with the audience.\n"
   ]
  },
  {
   "cell_type": "code",
   "execution_count": 74,
   "metadata": {
    "collapsed": false
   },
   "outputs": [
    {
     "name": "stdout",
     "output_type": "stream",
     "text": [
      "negative sentiment of emails versus days of the year\n"
     ]
    },
    {
     "data": {
      "image/png": "[encoded data removed]",
      "text/plain": [
       "<matplotlib.figure.Figure at 0x592008d0>"
      ]
     },
     "metadata": {},
     "output_type": "display_data"
    }
   ],
   "source": [
    "import matplotlib.pyplot as plt\n",
    "import numpy as np\n",
    "\n",
    "x_days = np.arange(len(sorted_by_date))\n",
    "\n",
    "plt.figure(1)\n",
    "plt.scatter(x_days, sorted_by_date)\n",
    "plt.plot(x_days, sorted_by_date)\n",
    "plt.gca().invert_yaxis()\n",
    "\n",
    "print(\"negative sentiment of emails versus days of the year\")\n",
    "plt.show()"
   ]
  },
  {
   "cell_type": "markdown",
   "metadata": {},
   "source": [
    "*-----------------\n",
    "# Done\n",
    "\n",
    "All set! \n",
    "\n",
    "** What do you need to submit?**\n",
    "\n",
    "* **Notebook File**: Save this Jupyter notebook, and find the notebook file in your folder (for example, \"filename.ipynb\"). This is the file you need to submit. Please make sure all the plotted tables and figures are in the notebook. If you used \"jupyter notebook --pylab=inline\" to open the notebook, all the figures and tables should have shown up in the notebook.\n",
    "\n",
    "* **PPT Slides**: please prepare PPT slides (for 10 minutes' talk) to present about the case study . Each team present their case studies in class for 10 minutes.\n",
    "\n",
    "Please compress all the files in a zipped file.\n",
    "\n",
    "\n",
    "** How to submit: **\n",
    "\n",
    "        Please submit through Canvas, in the Assignment \"Case Study 5\".\n",
    "        \n",
    "** Note: Each team only needs to submit one submission in Canvas **"
   ]
  },
  {
   "cell_type": "markdown",
   "metadata": {},
   "source": [
    "\n",
    "# Peer-Review Grading Template:\n",
    "\n",
    "** Total Points: (100 points) ** Please don't worry about the absolute scores, we will rescale the final grading according to the performance of all teams in the class.\n",
    "\n",
    "Please add an \"**X**\" mark in front of your rating: \n",
    "\n",
    "For example:\n",
    "\n",
    "*2: bad*\n",
    "          \n",
    "**X** *3: good*\n",
    "    \n",
    "*4: perfect*\n",
    "\n",
    "\n",
    "    ---------------------------------\n",
    "    The Problem: \n",
    "    ---------------------------------\n",
    "    \n",
    "    1. (10 points) how well did the team describe the problem they are trying to solve using the data? \n",
    "       0: not clear\n",
    "       2: I can barely understand the problem\n",
    "       4: okay, can be improved\n",
    "       6: good, but can be improved\n",
    "       8: very good\n",
    "       10: crystal clear\n",
    "    \n",
    "    2. (10 points) do you think the problem is important or has a potential impact?\n",
    "        0: not important at all\n",
    "        2: not sure if it is important\n",
    "        4: seems important, but not clear\n",
    "        6: interesting problem\n",
    "        8: an important problem, which I want to know the answer myself\n",
    "       10: very important, I would be happy invest money on a project like this.\n",
    "    \n",
    "    ----------------------------------\n",
    "    Data Collection and Processing:\n",
    "    ----------------------------------\n",
    "    \n",
    "    3. (10 points) Do you think the data collected/processed are relevant and sufficient for solving the above problem? \n",
    "       0: not clear\n",
    "       2: I can barely understand what data they are trying to collect/process\n",
    "       4: I can barely understand why the data is relevant to the problem\n",
    "       6: the data are relevant to the problem, but better data can be collected\n",
    "       8: the data collected are relevant and at a proper scale\n",
    "      10: the data are properly collected and they are sufficient\n",
    "\n",
    "    -----------------------------------\n",
    "    Data Exploration:\n",
    "    -----------------------------------\n",
    "    4. How well did the team solve the following task:\n",
    "    \n",
    "    (1) plot email communication graph/network (10 points):\n",
    "       0: missing answer\n",
    "       4: okay, but with major problems\n",
    "       7: good, but with minor problems\n",
    "      10: perfect\n",
    "    \n",
    "\n",
    "    -----------------------------------\n",
    "    The Solution\n",
    "    -----------------------------------\n",
    "    5.  how well did the team describe the solution they used to solve the problem? (10 points)\n",
    "       0: not clear\n",
    "       2: I can barely understand\n",
    "       4: okay, can be improved\n",
    "       6: good, but can be improved\n",
    "       8: very good\n",
    "       10: crystal clear\n",
    "       \n",
    "    6. how well is the solution in solving the problem? (10 points)\n",
    "       0: not relevant\n",
    "       2: barely relevant to the problem\n",
    "       4: okay solution, but there is an easier solution.\n",
    "       6: good, but can be improved\n",
    "       8: very good, but solution is simple/old\n",
    "       10: innovative and technically sound\n",
    "       \n",
    "    7. how well did the team implement the solution in python? (10 points)\n",
    "       0: the code is not relevant to the solution proposed\n",
    "       2: the code is barely understandable, but not relevant\n",
    "       4: okay, the code is clear but incorrect\n",
    "       6: good, the code is correct, but with major errors\n",
    "       8: very good, the code is correct, but with minor errors\n",
    "      10: perfect \n",
    "   \n",
    "    -----------------------------------\n",
    "    The Results\n",
    "    -----------------------------------\n",
    "     8.  How well did the team present the results they found in the data? (10 points)\n",
    "       0: not clear\n",
    "       2: I can barely understand\n",
    "       4: okay, can be improved\n",
    "       6: good, but can be improved\n",
    "       8: very good\n",
    "      10: crystal clear\n",
    "       \n",
    "     9.  How do you think of the results they found in the data?  (5 points)\n",
    "       0: not clear\n",
    "       1: likely to be wrong\n",
    "       2: okay, maybe wrong\n",
    "       3: good, but can be improved\n",
    "       4: make sense, but not interesting\n",
    "       5: make sense and very interesting\n",
    "     \n",
    "    -----------------------------------\n",
    "    The Presentation\n",
    "    -----------------------------------\n",
    "    10. How all the different parts (data, problem, solution, result) fit together as a coherent story?  \n",
    "       0: they are irrelevant\n",
    "       1: I can barely understand how they are related to each other\n",
    "       2: okay, the problem is good, but the solution doesn't match well, or the problem is not solvable.\n",
    "       3: good, but the results don't make much sense in the context\n",
    "       4: very good fit, but not exciting (the storyline can be improved/polished)\n",
    "       5: a perfect story\n",
    "      \n",
    "    11. Did the presenter make good use of the 10 minutes for presentation?  \n",
    "       0: the team didn't present\n",
    "       1: bad, barely finished a small part of the talk\n",
    "       2: okay, barely finished most parts of the talk.\n",
    "       3: good, finished all parts of the talk, but some part is rushed\n",
    "       4: very good, but the allocation of time on different parts can be improved.\n",
    "       5: perfect timing and good use of time      \n",
    "\n",
    "    12. How well do you think of the presentation (overall quality)?  \n",
    "       0: the team didn't present\n",
    "       1: bad\n",
    "       2: okay\n",
    "       3: good\n",
    "       4: very good\n",
    "       5: perfect\n",
    "\n",
    "\n",
    "    -----------------------------------\n",
    "    Overall: \n",
    "    -----------------------------------\n",
    "    13. How many points out of the 100 do you give to this project in total?  Please don't worry about the absolute scores, we will rescale the final grading according to the performance of all teams in the class.\n",
    "    Total score:\n",
    "    \n",
    "    14. What are the strengths of this project? Briefly, list up to 3 strengths.\n",
    "       1: \n",
    "       2:\n",
    "       3:\n",
    "    \n",
    "    15. What are the weaknesses of this project? Briefly, list up to 3 weaknesses.\n",
    "       1:\n",
    "       2:\n",
    "       3:\n",
    "    \n",
    "    16. Detailed comments and suggestions. What suggestions do you have for this project to improve its quality further.\n",
    "    \n",
    "    \n",
    "    \n",
    "\n",
    "    ---------------------------------\n",
    "    Your Vote: \n",
    "    ---------------------------------\n",
    "    1. [Overall Quality] Between the two submissions that you are reviewing, which team would you vote for a better score?  (5 bonus points)\n",
    "        0: I vote the other team is better than this team\n",
    "        5: I vote this team is better than the other team \n",
    "        \n",
    "    2. [Presentation] Among all the teams in the presentation, which team do you think deserves the best presentation award for this case study?  \n",
    "        1: Team 1\n",
    "        2: Team 2\n",
    "        3: Team 3\n",
    "        4: Team 4\n",
    "        5: Team 5\n",
    "        6: Team 6\n",
    "        7: Team 7\n",
    "        8: Team 8\n",
    "        9: Team 9\n",
    "\n",
    "\n"
   ]
  }
 ],
 "metadata": {
  "kernelspec": {
   "display_name": "Python 2",
   "language": "python",
   "name": "python2"
  },
  "language_info": {
   "codemirror_mode": {
    "name": "ipython",
    "version": 2
   },
   "file_extension": ".py",
   "mimetype": "text/x-python",
   "name": "python",
   "nbconvert_exporter": "python",
   "pygments_lexer": "ipython2",
   "version": "2.7.13"
  }
 },
 "nbformat": 4,
 "nbformat_minor": 0
}
